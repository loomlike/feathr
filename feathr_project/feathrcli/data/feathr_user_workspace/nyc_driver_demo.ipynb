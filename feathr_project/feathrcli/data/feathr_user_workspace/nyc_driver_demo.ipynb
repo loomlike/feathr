{
 "cells": [
  {
   "cell_type": "markdown",
   "metadata": {
    "application/vnd.databricks.v1+cell": {
     "inputWidgets": {},
     "nuid": "384e5e16-7213-4186-9d04-09d03b155534",
     "showTitle": false,
     "title": ""
    }
   },
   "source": [
    "# Feathr Quick Start Notebook\n",
    "\n",
    "This notebook illustrates the use of Feathr Feature Store to create a model that predicts NYC Taxi fares. The dataset comes from [here](https://www1.nyc.gov/site/tlc/about/tlc-trip-record-data.page).\n",
    "\n",
    "The major problems Feathr solves are:\n",
    "\n",
    "1. Create, share and manage useful features from raw source data.\n",
    "2. Provide Point-in-time feature join to create training dataset to ensure no data leakage.\n",
    "3. Deploy the same feature data to online store to eliminate training and inference data skew."
   ]
  },
  {
   "cell_type": "markdown",
   "metadata": {},
   "source": [
    "## Prerequisite\n",
    "\n",
    "Feathr has native cloud integration. First step is to provision required cloud resources if you want to use Feathr.\n",
    "\n",
    "Follow the [Feathr ARM deployment guide](https://feathr-ai.github.io/feathr/how-to-guides/azure-deployment-arm.html) to run Feathr on Azure. This allows you to quickly get started with automated deployment using Azure Resource Manager template. For more details, please refer [README.md](https://github.com/feathr-ai/feathr#%EF%B8%8F-running-feathr-on-cloud-with-a-few-simple-steps).\n",
    "\n",
    "Additionally, to run this notebook, you'll need to install `feathr` pip package. For local spark, simply run `pip install feathr` on the machine that runs this notebook. To use Databricks or Azure Synapse Analytics, please see dependency management documents:\n",
    "- [Azure Databricks dependency management](https://learn.microsoft.com/en-us/azure/databricks/libraries/)\n",
    "- [Azure Synapse Analytics dependency management](https://learn.microsoft.com/en-us/azure/synapse-analytics/spark/apache-spark-azure-portal-add-libraries)"
   ]
  },
  {
   "cell_type": "markdown",
   "metadata": {},
   "source": [
    "## Notebook Steps\n",
    "\n",
    "This tutorial demonstrates the key capabilities of Feathr, including:\n",
    "\n",
    "1. Install Feathr and necessary dependencies\n",
    "2. Create shareable features with Feathr feature definition configs\n",
    "3. Create training data using point-in-time correct feature join\n",
    "4. Train a prediction model and evaluate the features\n",
    "5. Register the features to share across teams\n",
    "6. Materialize feature values for online scoring\n",
    "\n",
    "The overall data flow is as follows:\n",
    "\n",
    "<img src=\"https://github.com/linkedin/feathr/blob/main/docs/images/feature_flow.png?raw=true\" width=\"800\">"
   ]
  },
  {
   "cell_type": "markdown",
   "metadata": {},
   "source": [
    "## 1. Install Feathr and Necessary Dependancies\n",
    "\n",
    "Run the following cells if you haven't installed `feathr` package already. "
   ]
  },
  {
   "cell_type": "code",
   "execution_count": null,
   "metadata": {},
   "outputs": [],
   "source": [
    "!pip install feathr"
   ]
  },
  {
   "cell_type": "code",
   "execution_count": 1,
   "metadata": {},
   "outputs": [],
   "source": [
    "%load_ext autoreload\n",
    "%autoreload 2"
   ]
  },
  {
   "cell_type": "code",
   "execution_count": 2,
   "metadata": {
    "application/vnd.databricks.v1+cell": {
     "inputWidgets": {},
     "nuid": "80223a02-631c-40c8-91b3-a037249ffff9",
     "showTitle": false,
     "title": ""
    }
   },
   "outputs": [],
   "source": [
    "from datetime import datetime, timedelta\n",
    "import glob\n",
    "import json\n",
    "from math import sqrt\n",
    "import os\n",
    "import requests\n",
    "from tempfile import NamedTemporaryFile\n",
    "\n",
    "from azure.identity import DefaultAzureCredential\n",
    "from azure.keyvault.secrets import SecretClient\n",
    "from feathr import (\n",
    "    FeathrClient,\n",
    "    # Feature data types\n",
    "    BOOLEAN, FLOAT, INT32, ValueType,\n",
    "    # Feature data sources\n",
    "    INPUT_CONTEXT, HdfsSource,\n",
    "    # Feature aggregations\n",
    "    TypedKey, WindowAggTransformation,\n",
    "    # Feature types and anchor\n",
    "    DerivedFeature, Feature, FeatureAnchor,\n",
    "    # Materialization\n",
    "    BackfillTime, MaterializationSettings, RedisSink,\n",
    "    # Offline feature computation\n",
    "    FeatureQuery, ObservationSettings,\n",
    ")\n",
    "from feathr.spark_provider.feathr_configurations import SparkExecutionConfiguration\n",
    "from feathr.utils.job_utils import get_result_df\n",
    "\n",
    "import pandas as pd\n",
    "from pyspark.sql import DataFrame\n",
    "import pyspark.sql.functions as F"
   ]
  },
  {
   "cell_type": "markdown",
   "metadata": {},
   "source": [
    "## 2. Create Shareable Features with Feathr Feature Definition Configs\n",
    "\n",
    "First, we define all the necessary resource key values for authentication. These values can also be retrieved by using [Azure Key Vault](https://azure.microsoft.com/en-us/services/key-vault/) cloud key value store.\n",
    "Please refer to [A note on using azure key vault to store credentials](https://github.com/feathr-ai/feathr/blob/41e7496b38c43af6d7f8f1de842f657b27840f6d/docs/how-to-guides/feathr-configuration-and-env.md#a-note-on-using-azure-key-vault-to-store-credentials) for more details."
   ]
  },
  {
   "cell_type": "code",
   "execution_count": 3,
   "metadata": {},
   "outputs": [],
   "source": [
    "RESOURCE_PREFIX = \"juntest\"\n",
    "PROJECT_NAME = \"feathr_getting_started\"\n",
    "ROOT_PATH = \"./\"  # Could be Azure Blob File System path, abfs or wasbs too.\n",
    "\n",
    "KEY_VAULT = f\"{RESOURCE_PREFIX}kv\"\n",
    "KEY_VAULT_URI = f\"https://{KEY_VAULT}.vault.azure.net\""
   ]
  },
  {
   "cell_type": "code",
   "execution_count": 4,
   "metadata": {},
   "outputs": [],
   "source": [
    "# TODO clean up\n",
    "# synapse_workspace_url=resource_prefix+\"syws\"\n",
    "# adls_account=resource_prefix+\"dls\"\n",
    "# adls_fs_name=resource_prefix+\"fs\"\n",
    "# purview_name=resource_prefix+\"purview\"\n",
    "\n",
    "# # Set the resource link\n",
    "# os.environ['spark_config__azure_synapse__dev_url'] = f'https://{synapse_workspace_url}.dev.azuresynapse.net'\n",
    "# os.environ['spark_config__azure_synapse__pool_name'] = 'spark31'\n",
    "# os.environ['spark_config__azure_synapse__workspace_dir'] = f'abfss://{adls_fs_name}@{adls_account}.dfs.core.windows.net/feathr_project'\n",
    "# feathr_output_path = f'abfss://{adls_fs_name}@{adls_account}.dfs.core.windo"
   ]
  },
  {
   "cell_type": "code",
   "execution_count": 5,
   "metadata": {
    "scrolled": false
   },
   "outputs": [],
   "source": [
    "# Get all the required credentials from Azure Key Vault\n",
    "credential = DefaultAzureCredential(exclude_interactive_browser_credential=False)\n",
    "secret_client = SecretClient(vault_url=KEY_VAULT_URI, credential=credential)\n",
    "retrieved_secret = secret_client.get_secret('FEATHR-ONLINE-STORE-CONN').value"
   ]
  },
  {
   "cell_type": "markdown",
   "metadata": {},
   "source": [
    "To run this notebook on **Azure Synapse** or **Local Spark**, you'll need to set `AZURE_CLIENT_ID`, `AZURE_TENANT_ID`, `AZURE_CLIENT_SECRET`, and `REDIS_PASSWORD` environment variables.\n",
    "\n",
    "To run this notebook on **Databricks**, you'll need to set `DATABRICKS_WORKSPACE_TOKEN_VALUE` and `REDIS_PASSWORD`."
   ]
  },
  {
   "cell_type": "code",
   "execution_count": 6,
   "metadata": {},
   "outputs": [],
   "source": [
    "# Redis credential\n",
    "os.environ['REDIS_PASSWORD'] = retrieved_secret.split(\",\")[1].split(\"password=\", 1)[1]\n",
    "\n",
    "# To use a local spark:\n",
    "os.environ['SPARK_LOCAL_IP'] = \"127.0.0.1\"\n",
    "\n",
    "\n",
    "# To use a synapse Spark pool:\n",
    "# from pyspark.sql import SparkSession\n",
    "# sc = SparkSession.builder.getOrCreate()\n",
    "# token_library = sc._jvm.com.microsoft.azure.synapse.tokenlibrary.TokenLibrary\n",
    "# connection_string = token_library.GetSecret(\"<AZURE KEY VAULT NAME>\", \"<SECRET KEY>\", \"<LINKED SERVICE NAME>\")\n",
    "\n",
    "# To use a databricks cluster:\n",
    "# ctx = dbutils.notebook.entry_point.getDbutils().notebook().getContext()\n",
    "# databricks_config = {\n",
    "#     'run_name': \"FEATHR_FILL_IN\",\n",
    "#     'existing_cluster_id': ctx.tags().get('clusterId').get(),\n",
    "#     'libraries': [{'jar': \"FEATHR_FILL_IN\"}],\n",
    "#     'spark_jar_task': {\n",
    "#         'main_class_name': \"FEATHR_FILL_IN\",\n",
    "#         'parameters': [\"FEATHR_FILL_IN\"],\n",
    "#     },\n",
    "# }\n",
    "# os.environ['spark_config__spark_cluster'] = \"databricks\"\n",
    "# os.environ['spark_config__databricks__workspace_instance_url'] = \"https://\" + ctx.tags().get('browserHostName').get()\n",
    "# os.environ['spark_config__databricks__config_template'] = json.dumps(databricks_config)\n",
    "# os.environ['spark_config__databricks__work_dir'] = \"dbfs:/feathr_getting_started\"\n",
    "# os.environ['DATABRICKS_WORKSPACE_TOKEN_VALUE'] = ctx.apiToken().get()\n"
   ]
  },
  {
   "cell_type": "markdown",
   "metadata": {
    "application/vnd.databricks.v1+cell": {
     "inputWidgets": {},
     "nuid": "41d3648a-9bc9-40dc-90da-bc82b21ef9b3",
     "showTitle": false,
     "title": ""
    }
   },
   "source": [
    "### Configurations\n",
    "\n",
    "Feathr uses a yaml file to define configurations. Please refer to [feathr_config.yaml]( https://github.com/linkedin/feathr/blob/main/feathr_project/feathrcli/data/feathr_user_workspace/feathr_config.yaml) for the meaning of each field."
   ]
  },
  {
   "cell_type": "code",
   "execution_count": 7,
   "metadata": {
    "application/vnd.databricks.v1+cell": {
     "inputWidgets": {},
     "nuid": "8cd64e3a-376c-48e6-ba41-5197f3591d48",
     "showTitle": false,
     "title": ""
    }
   },
   "outputs": [],
   "source": [
    "yaml_config = f\"\"\"\n",
    "api_version: 1\n",
    "\n",
    "project_config:\n",
    "  project_name: {PROJECT_NAME}\n",
    "  required_environment_variables:\n",
    "    - 'REDIS_PASSWORD'\n",
    "    - 'AZURE_CLIENT_ID'\n",
    "    - 'AZURE_TENANT_ID'\n",
    "    - 'AZURE_CLIENT_SECRET'\n",
    "    \n",
    "feature_registry:\n",
    "  api_endpoint: 'https://{RESOURCE_PREFIX}webapp.azurewebsites.net/api/v1'\n",
    "  # Registry configs if use purview - TODO do I need this even when using api_endpoint?\n",
    "  #purview:\n",
    "    #purview_name: \"feathrazuretest3-purview1\"\n",
    "    # delimiter indicates that how the project/workspace name, feature names etc. are delimited. By default it will be '__'\n",
    "    # this is for global reference (mainly for feature sharing). For example, when we setup a project called foo, and we have an anchor called 'taxi_driver' and the feature name is called 'f_daily_trips'\n",
    "    # the feature will have a globally unique name called 'foo__taxi_driver__f_daily_trips'\n",
    "    #delimiter: \"__\"\n",
    "    # controls whether the type system will be initialized or not. Usually this is only required to be executed once.\n",
    "    #type_system_initialization: false\n",
    "\n",
    "spark_config:\n",
    "  # Currently support: 'azure_synapse', 'databricks', and 'local'\n",
    "  spark_cluster: 'local'\n",
    "  spark_result_output_parts: '1'\n",
    "\n",
    "offline_store:\n",
    "  wasb:\n",
    "    wasb_enabled: true\n",
    "\n",
    "online_store:\n",
    "  # You can skip this part if you don't have Redis and skip materialization later in this notebook.\n",
    "  redis:\n",
    "    host: '{RESOURCE_PREFIX}redis.redis.cache.windows.net'\n",
    "    port: 6380\n",
    "    ssl_enabled: true\n",
    "\"\"\"\n",
    "\n",
    "tmp = NamedTemporaryFile(mode='w', delete=False)\n",
    "with open(tmp.name, \"w\") as config_file:\n",
    "    config_file.write(yaml_config)"
   ]
  },
  {
   "cell_type": "markdown",
   "metadata": {},
   "source": [
    "All the configurations can be overwritten by environment variables with concatenation of `__` for different layers of the config file. For example, `feathr_runtime_location` for databricks config can be overwritten by setting `spark_config__databricks__feathr_runtime_location` environment variable."
   ]
  },
  {
   "cell_type": "markdown",
   "metadata": {
    "application/vnd.databricks.v1+cell": {
     "inputWidgets": {},
     "nuid": "3fef7f2f-df19-4f53-90a5-ff7999ed983d",
     "showTitle": false,
     "title": ""
    }
   },
   "source": [
    "### Initialize Feathr client"
   ]
  },
  {
   "cell_type": "code",
   "execution_count": 8,
   "metadata": {
    "application/vnd.databricks.v1+cell": {
     "inputWidgets": {},
     "nuid": "9713a2df-c7b2-4562-88b0-b7acce3cc43a",
     "showTitle": false,
     "title": ""
    }
   },
   "outputs": [
    {
     "name": "stderr",
     "output_type": "stream",
     "text": [
      "2022-10-05 17:51:56.623 | INFO     | feathr.utils._envvariableutil:get_environment_variable_with_default:51 - secrets__azure_key_vault__name not found in the config file.\n",
      "2022-10-05 17:51:56.640 | INFO     | feathr.utils._envvariableutil:get_environment_variable_with_default:51 - offline_store__s3__s3_enabled not found in the config file.\n",
      "2022-10-05 17:51:56.643 | INFO     | feathr.utils._envvariableutil:get_environment_variable_with_default:51 - offline_store__adls__adls_enabled not found in the config file.\n",
      "2022-10-05 17:51:56.649 | INFO     | feathr.utils._envvariableutil:get_environment_variable_with_default:51 - offline_store__jdbc__jdbc_enabled not found in the config file.\n",
      "2022-10-05 17:51:56.653 | INFO     | feathr.utils._envvariableutil:get_environment_variable_with_default:51 - offline_store__snowflake__snowflake_enabled not found in the config file.\n",
      "2022-10-05 17:51:56.662 | INFO     | feathr.utils._envvariableutil:get_environment_variable_with_default:51 - spark_config__local__feathr_runtime_location not found in the config file.\n",
      "2022-10-05 17:51:56.665 | INFO     | feathr.utils._envvariableutil:get_environment_variable_with_default:51 - spark_config__local__workspace not found in the config file.\n",
      "2022-10-05 17:51:56.669 | INFO     | feathr.utils._envvariableutil:get_environment_variable_with_default:51 - spark_config__local__master not found in the config file.\n",
      "2022-10-05 17:51:56.681 | INFO     | feathr.utils._envvariableutil:get_environment_variable_with_default:51 - secrets__azure_key_vault__name not found in the config file.\n"
     ]
    }
   ],
   "source": [
    "client = FeathrClient(config_path=tmp.name)"
   ]
  },
  {
   "cell_type": "markdown",
   "metadata": {
    "application/vnd.databricks.v1+cell": {
     "inputWidgets": {},
     "nuid": "c3b64bda-d42c-4a64-b976-0fb604cf38c5",
     "showTitle": false,
     "title": ""
    }
   },
   "source": [
    "### Prepare the NYC taxi fare dataset"
   ]
  },
  {
   "cell_type": "code",
   "execution_count": 156,
   "metadata": {
    "application/vnd.databricks.v1+cell": {
     "inputWidgets": {},
     "nuid": "c4ccd7b3-298a-4e5a-8eec-b7e309db393e",
     "showTitle": false,
     "title": ""
    }
   },
   "outputs": [
    {
     "data": {
      "text/html": [
       "<div>\n",
       "<style scoped>\n",
       "    .dataframe tbody tr th:only-of-type {\n",
       "        vertical-align: middle;\n",
       "    }\n",
       "\n",
       "    .dataframe tbody tr th {\n",
       "        vertical-align: top;\n",
       "    }\n",
       "\n",
       "    .dataframe thead th {\n",
       "        text-align: right;\n",
       "    }\n",
       "</style>\n",
       "<table border=\"1\" class=\"dataframe\">\n",
       "  <thead>\n",
       "    <tr style=\"text-align: right;\">\n",
       "      <th></th>\n",
       "      <th>trip_id</th>\n",
       "      <th>VendorID</th>\n",
       "      <th>lpep_pickup_datetime</th>\n",
       "      <th>lpep_dropoff_datetime</th>\n",
       "      <th>store_and_fwd_flag</th>\n",
       "      <th>RatecodeID</th>\n",
       "      <th>PULocationID</th>\n",
       "      <th>DOLocationID</th>\n",
       "      <th>passenger_count</th>\n",
       "      <th>trip_distance</th>\n",
       "      <th>...</th>\n",
       "      <th>extra</th>\n",
       "      <th>mta_tax</th>\n",
       "      <th>tip_amount</th>\n",
       "      <th>tolls_amount</th>\n",
       "      <th>ehail_fee</th>\n",
       "      <th>improvement_surcharge</th>\n",
       "      <th>total_amount</th>\n",
       "      <th>payment_type</th>\n",
       "      <th>trip_type</th>\n",
       "      <th>congestion_surcharge</th>\n",
       "    </tr>\n",
       "  </thead>\n",
       "  <tbody>\n",
       "    <tr>\n",
       "      <th>0</th>\n",
       "      <td>0</td>\n",
       "      <td>2.0</td>\n",
       "      <td>2020-04-01 00:44:02</td>\n",
       "      <td>2020-04-01 00:52:23</td>\n",
       "      <td>N</td>\n",
       "      <td>1.0</td>\n",
       "      <td>42</td>\n",
       "      <td>41</td>\n",
       "      <td>1.0</td>\n",
       "      <td>1.68</td>\n",
       "      <td>...</td>\n",
       "      <td>0.5</td>\n",
       "      <td>0.5</td>\n",
       "      <td>0.0</td>\n",
       "      <td>0.0</td>\n",
       "      <td>None</td>\n",
       "      <td>0.3</td>\n",
       "      <td>9.3</td>\n",
       "      <td>1.0</td>\n",
       "      <td>1.0</td>\n",
       "      <td>0.0</td>\n",
       "    </tr>\n",
       "    <tr>\n",
       "      <th>1</th>\n",
       "      <td>1</td>\n",
       "      <td>2.0</td>\n",
       "      <td>2020-04-01 00:24:39</td>\n",
       "      <td>2020-04-01 00:33:06</td>\n",
       "      <td>N</td>\n",
       "      <td>1.0</td>\n",
       "      <td>244</td>\n",
       "      <td>247</td>\n",
       "      <td>2.0</td>\n",
       "      <td>1.94</td>\n",
       "      <td>...</td>\n",
       "      <td>0.5</td>\n",
       "      <td>0.5</td>\n",
       "      <td>0.0</td>\n",
       "      <td>0.0</td>\n",
       "      <td>None</td>\n",
       "      <td>0.3</td>\n",
       "      <td>10.3</td>\n",
       "      <td>2.0</td>\n",
       "      <td>1.0</td>\n",
       "      <td>0.0</td>\n",
       "    </tr>\n",
       "    <tr>\n",
       "      <th>2</th>\n",
       "      <td>2</td>\n",
       "      <td>2.0</td>\n",
       "      <td>2020-04-01 00:45:06</td>\n",
       "      <td>2020-04-01 00:51:13</td>\n",
       "      <td>N</td>\n",
       "      <td>1.0</td>\n",
       "      <td>244</td>\n",
       "      <td>243</td>\n",
       "      <td>3.0</td>\n",
       "      <td>1.0</td>\n",
       "      <td>...</td>\n",
       "      <td>0.5</td>\n",
       "      <td>0.5</td>\n",
       "      <td>0.0</td>\n",
       "      <td>0.0</td>\n",
       "      <td>None</td>\n",
       "      <td>0.3</td>\n",
       "      <td>7.8</td>\n",
       "      <td>2.0</td>\n",
       "      <td>1.0</td>\n",
       "      <td>0.0</td>\n",
       "    </tr>\n",
       "    <tr>\n",
       "      <th>3</th>\n",
       "      <td>3</td>\n",
       "      <td>2.0</td>\n",
       "      <td>2020-04-01 00:45:06</td>\n",
       "      <td>2020-04-01 01:04:39</td>\n",
       "      <td>N</td>\n",
       "      <td>1.0</td>\n",
       "      <td>244</td>\n",
       "      <td>243</td>\n",
       "      <td>2.0</td>\n",
       "      <td>2.81</td>\n",
       "      <td>...</td>\n",
       "      <td>0.5</td>\n",
       "      <td>0.5</td>\n",
       "      <td>0.0</td>\n",
       "      <td>0.0</td>\n",
       "      <td>None</td>\n",
       "      <td>0.3</td>\n",
       "      <td>13.3</td>\n",
       "      <td>2.0</td>\n",
       "      <td>1.0</td>\n",
       "      <td>0.0</td>\n",
       "    </tr>\n",
       "    <tr>\n",
       "      <th>4</th>\n",
       "      <td>4</td>\n",
       "      <td>2.0</td>\n",
       "      <td>2020-04-01 00:00:23</td>\n",
       "      <td>2020-04-01 00:16:13</td>\n",
       "      <td>N</td>\n",
       "      <td>1.0</td>\n",
       "      <td>75</td>\n",
       "      <td>169</td>\n",
       "      <td>1.0</td>\n",
       "      <td>6.79</td>\n",
       "      <td>...</td>\n",
       "      <td>0.5</td>\n",
       "      <td>0.5</td>\n",
       "      <td>0.0</td>\n",
       "      <td>0.0</td>\n",
       "      <td>None</td>\n",
       "      <td>0.3</td>\n",
       "      <td>22.3</td>\n",
       "      <td>1.0</td>\n",
       "      <td>1.0</td>\n",
       "      <td>0.0</td>\n",
       "    </tr>\n",
       "  </tbody>\n",
       "</table>\n",
       "<p>5 rows × 21 columns</p>\n",
       "</div>"
      ],
      "text/plain": [
       "  trip_id VendorID lpep_pickup_datetime lpep_dropoff_datetime  \\\n",
       "0       0      2.0  2020-04-01 00:44:02   2020-04-01 00:52:23   \n",
       "1       1      2.0  2020-04-01 00:24:39   2020-04-01 00:33:06   \n",
       "2       2      2.0  2020-04-01 00:45:06   2020-04-01 00:51:13   \n",
       "3       3      2.0  2020-04-01 00:45:06   2020-04-01 01:04:39   \n",
       "4       4      2.0  2020-04-01 00:00:23   2020-04-01 00:16:13   \n",
       "\n",
       "  store_and_fwd_flag RatecodeID PULocationID DOLocationID passenger_count  \\\n",
       "0                  N        1.0           42           41             1.0   \n",
       "1                  N        1.0          244          247             2.0   \n",
       "2                  N        1.0          244          243             3.0   \n",
       "3                  N        1.0          244          243             2.0   \n",
       "4                  N        1.0           75          169             1.0   \n",
       "\n",
       "  trip_distance  ... extra mta_tax tip_amount tolls_amount ehail_fee  \\\n",
       "0          1.68  ...   0.5     0.5        0.0          0.0      None   \n",
       "1          1.94  ...   0.5     0.5        0.0          0.0      None   \n",
       "2           1.0  ...   0.5     0.5        0.0          0.0      None   \n",
       "3          2.81  ...   0.5     0.5        0.0          0.0      None   \n",
       "4          6.79  ...   0.5     0.5        0.0          0.0      None   \n",
       "\n",
       "  improvement_surcharge total_amount payment_type trip_type  \\\n",
       "0                   0.3          9.3          1.0       1.0   \n",
       "1                   0.3         10.3          2.0       1.0   \n",
       "2                   0.3          7.8          2.0       1.0   \n",
       "3                   0.3         13.3          2.0       1.0   \n",
       "4                   0.3         22.3          1.0       1.0   \n",
       "\n",
       "  congestion_surcharge  \n",
       "0                  0.0  \n",
       "1                  0.0  \n",
       "2                  0.0  \n",
       "3                  0.0  \n",
       "4                  0.0  \n",
       "\n",
       "[5 rows x 21 columns]"
      ]
     },
     "execution_count": 156,
     "metadata": {},
     "output_type": "execute_result"
    }
   ],
   "source": [
    "DATA_FILEPATH = ROOT_PATH + \"green_tripdata_2020-04_with_index.csv\"\n",
    "\n",
    "# Download the data file\n",
    "response = requests.get(\n",
    "    \"https://azurefeathrstorage.blob.core.windows.net/public/sample_data/green_tripdata_2020-04_with_index.csv\",\n",
    ")\n",
    "with open(DATA_FILEPATH, \"wb\") as data_file:\n",
    "    data_file.write(response.content)\n",
    "\n",
    "df = spark.read.option(\"header\", True).csv(DATA_FILEPATH)\n",
    "df.limit(5).toPandas()"
   ]
  },
  {
   "cell_type": "markdown",
   "metadata": {
    "application/vnd.databricks.v1+cell": {
     "inputWidgets": {},
     "nuid": "7430c942-64e5-4b70-b823-16ce1d1b3cee",
     "showTitle": false,
     "title": ""
    }
   },
   "source": [
    "### Defining features with Feathr\n",
    "\n",
    "In Feathr, a feature is viewed as a function, mapping a key and timestamp to a feature value. For more details, please see [Feathr Feature Definition Guide](https://github.com/feathr-ai/feathr/blob/main/docs/concepts/feature-definition.md).\n",
    "\n",
    "* The feature key (a.k.a. entity id) identifies the subject of feature, e.g. a user_id or location_id.\n",
    "* The feature name is the aspect of the entity that the feature is indicating, e.g. the age of the user.\n",
    "* The feature value is the actual value of that aspect at a particular time, e.g. the value is 30 at year 2022.\n",
    "\n",
    "Note that, in some cases, a feature could be just a transformation function that has no entity key or timestamp involved, e.g. *the day of week of the request timestamp*.\n",
    "\n",
    "There are two types of features -- anchored features and derivated features:\n",
    "\n",
    "* **Anchored features**: Features that are directly extracted from sources. Could be with or without aggregation. \n",
    "* **Derived features**: Features that are computed on top of other features.\n",
    "\n",
    "#### Define anchored features\n",
    "\n",
    "A feature source is needed for anchored features that describes the raw data in which the feature values are computed from. A source value should be either `INPUT_CONTEXT` (the features that will be extracted from the observation data directly) or `feathr.source.Source` object."
   ]
  },
  {
   "cell_type": "code",
   "execution_count": 10,
   "metadata": {},
   "outputs": [],
   "source": [
    "TIMESTAMP_COL = \"lpep_dropoff_datetime\"\n",
    "TIMESTAMP_FORMAT = \"yyyy-MM-dd HH:mm:ss\""
   ]
  },
  {
   "cell_type": "code",
   "execution_count": 11,
   "metadata": {
    "application/vnd.databricks.v1+cell": {
     "inputWidgets": {},
     "nuid": "a373ecbe-a040-4cd3-9d87-0d5f4c5ba553",
     "showTitle": false,
     "title": ""
    }
   },
   "outputs": [],
   "source": [
    "# We define f_trip_distance and f_trip_time_duration features separately\n",
    "# so that we can reuse them later for the derived features.\n",
    "f_trip_distance = Feature(\n",
    "    name=\"f_trip_distance\",\n",
    "    feature_type=FLOAT,\n",
    "    transform=\"trip_distance\",\n",
    ")\n",
    "f_trip_time_duration = Feature(\n",
    "    name=\"f_trip_time_duration\",\n",
    "    feature_type=FLOAT,\n",
    "    transform=\"cast_float((to_unix_timestamp(lpep_dropoff_datetime) - to_unix_timestamp(lpep_pickup_datetime)) / 60)\",\n",
    ")\n",
    "\n",
    "features = [\n",
    "    f_trip_distance,\n",
    "    f_trip_time_duration,\n",
    "    Feature(\n",
    "        name=\"f_is_long_trip_distance\",\n",
    "        feature_type=BOOLEAN,\n",
    "        transform=\"trip_distance > 30.0\",\n",
    "    ),\n",
    "    Feature(\n",
    "        name=\"f_day_of_week\",\n",
    "        feature_type=INT32,\n",
    "        transform=\"dayofweek(lpep_dropoff_datetime)\",\n",
    "    ),\n",
    "    Feature(\n",
    "        name=\"f_day_of_month\",\n",
    "        feature_type=INT32,\n",
    "        transform=\"dayofmonth(lpep_dropoff_datetime)\",\n",
    "    ),\n",
    "    Feature(\n",
    "        name=\"f_hour_of_day\",\n",
    "        feature_type=INT32,\n",
    "        transform=\"hour(lpep_dropoff_datetime)\",\n",
    "    ),\n",
    "]\n",
    "\n",
    "# After you have defined features, bring them together to build the anchor to the source.\n",
    "feature_anchor = FeatureAnchor(\n",
    "    name=\"feature_anchor\",\n",
    "    source=INPUT_CONTEXT,  # Pass through source, i.e. observation data.\n",
    "    features=features,\n",
    ")"
   ]
  },
  {
   "cell_type": "markdown",
   "metadata": {},
   "source": [
    "We can define the source with a preprocessing python function."
   ]
  },
  {
   "cell_type": "code",
   "execution_count": 12,
   "metadata": {},
   "outputs": [],
   "source": [
    "def preprocessing(df: DataFrame) -> DataFrame:\n",
    "    import pyspark.sql.functions as F\n",
    "    df = df.withColumn(\"fare_amount_cents\", (F.col(\"fare_amount\") * 100.0).cast(\"float\"))\n",
    "    return df\n",
    "\n",
    "batch_source = HdfsSource(\n",
    "    name=\"nycTaxiBatchSource\",\n",
    "    path=DATA_FILEPATH,\n",
    "    event_timestamp_column=TIMESTAMP_COL,\n",
    "    preprocessing=preprocessing,\n",
    "    timestamp_format=TIMESTAMP_FORMAT,\n",
    ")"
   ]
  },
  {
   "cell_type": "markdown",
   "metadata": {},
   "source": [
    "For the features with aggregation, the supported functions are as follows:\n",
    "\n",
    "| Aggregation Function | Input Type | Description |\n",
    "| --- | --- | --- |\n",
    "|SUM, COUNT, MAX, MIN, AVG\t|Numeric|Applies the the numerical operation on the numeric inputs. |\n",
    "|MAX_POOLING, MIN_POOLING, AVG_POOLING\t| Numeric Vector | Applies the max/min/avg operation on a per entry bassis for a given a collection of numbers.|\n",
    "|LATEST| Any |Returns the latest not-null values from within the defined time window |"
   ]
  },
  {
   "cell_type": "code",
   "execution_count": 13,
   "metadata": {},
   "outputs": [],
   "source": [
    "agg_key = TypedKey(\n",
    "    key_column=\"DOLocationID\",\n",
    "    key_column_type=ValueType.INT32,\n",
    "    description=\"location id in NYC\",\n",
    "    full_name=\"nyc_taxi.location_id\",\n",
    ")\n",
    "\n",
    "agg_window = \"90d\"\n",
    "\n",
    "# Anchored features with aggregations\n",
    "agg_features = [\n",
    "    Feature(\n",
    "        name=\"f_location_avg_fare\",\n",
    "        key=agg_key,\n",
    "        feature_type=FLOAT,\n",
    "        transform=WindowAggTransformation(\n",
    "            agg_expr=\"fare_amount_cents\",\n",
    "            agg_func=\"AVG\",\n",
    "            window=agg_window,\n",
    "        ),\n",
    "    ),\n",
    "    Feature(\n",
    "        name=\"f_location_max_fare\",\n",
    "        key=agg_key,\n",
    "        feature_type=FLOAT,\n",
    "        transform=WindowAggTransformation(\n",
    "            agg_expr=\"fare_amount_cents\",\n",
    "            agg_func=\"MAX\",\n",
    "            window=agg_window,\n",
    "        ),\n",
    "    ),\n",
    "]\n",
    "\n",
    "agg_feature_anchor = FeatureAnchor(\n",
    "    name=\"agg_feature_anchor\",\n",
    "    source=batch_source,  # External data source for feature. Typically a data table.\n",
    "    features=agg_features,\n",
    ")"
   ]
  },
  {
   "cell_type": "markdown",
   "metadata": {
    "application/vnd.databricks.v1+cell": {
     "inputWidgets": {},
     "nuid": "d2ecaca9-057e-4b36-811f-320f66f753ed",
     "showTitle": false,
     "title": ""
    }
   },
   "source": [
    "#### Define derived features\n",
    "\n",
    "We also define a derived feature, `f_trip_time_distance`, from the anchored features `f_trip_distance` and `f_trip_time_duration` as follows:"
   ]
  },
  {
   "cell_type": "code",
   "execution_count": 14,
   "metadata": {
    "application/vnd.databricks.v1+cell": {
     "inputWidgets": {},
     "nuid": "270fb11e-8a71-404f-9639-ad29d8e6a2c1",
     "showTitle": false,
     "title": ""
    }
   },
   "outputs": [],
   "source": [
    "derived_features = [\n",
    "    DerivedFeature(\n",
    "        name=\"f_trip_time_distance\",\n",
    "        feature_type=FLOAT,\n",
    "        input_features=[\n",
    "            f_trip_distance,\n",
    "            f_trip_time_duration,\n",
    "        ],\n",
    "        transform=\"f_trip_distance / f_trip_time_duration\",\n",
    "    )\n",
    "]"
   ]
  },
  {
   "cell_type": "markdown",
   "metadata": {
    "application/vnd.databricks.v1+cell": {
     "inputWidgets": {},
     "nuid": "ad102c45-586d-468c-85f0-9454401ef10b",
     "showTitle": false,
     "title": ""
    }
   },
   "source": [
    "### Build features\n",
    "\n",
    "Finally, we build the features."
   ]
  },
  {
   "cell_type": "code",
   "execution_count": 15,
   "metadata": {
    "application/vnd.databricks.v1+cell": {
     "inputWidgets": {},
     "nuid": "91bb5ebb-87e4-470b-b8eb-1c89b351740e",
     "showTitle": false,
     "title": ""
    }
   },
   "outputs": [],
   "source": [
    "client.build_features(\n",
    "    anchor_list=[feature_anchor, agg_feature_anchor],\n",
    "    derived_feature_list=derived_features,\n",
    ")"
   ]
  },
  {
   "cell_type": "markdown",
   "metadata": {
    "application/vnd.databricks.v1+cell": {
     "inputWidgets": {},
     "nuid": "632d5f46-f9e2-41a8-aab7-34f75206e2aa",
     "showTitle": false,
     "title": ""
    }
   },
   "source": [
    "## 3. Create Training Data Using Point-in-Time Correct Feature Join\n",
    "\n",
    "After the feature producers have defined the features (as described in the Feature Definition part), the feature consumers may want to consume those features. Feature consumers will use observation data to query from different feature tables using Feature Query.\n",
    "\n",
    "To create a training dataset using Feathr, one needs to provide a feature join configuration file to specify\n",
    "what features and how these features should be joined to the observation data. \n",
    "\n",
    "To learn more on this topic, please refer to [Point-in-time Correctness](https://github.com/linkedin/feathr/blob/main/docs/concepts/point-in-time-join.md)"
   ]
  },
  {
   "cell_type": "code",
   "execution_count": 39,
   "metadata": {},
   "outputs": [
    {
     "data": {
      "text/plain": [
       "['f_trip_distance',\n",
       " 'f_trip_time_duration',\n",
       " 'f_is_long_trip_distance',\n",
       " 'f_day_of_week',\n",
       " 'f_day_of_month',\n",
       " 'f_hour_of_day',\n",
       " 'f_location_avg_fare',\n",
       " 'f_location_max_fare',\n",
       " 'f_trip_time_distance']"
      ]
     },
     "execution_count": 39,
     "metadata": {},
     "output_type": "execute_result"
    }
   ],
   "source": [
    "feature_names = [feature.name for feature in features + agg_features + derived_features]\n",
    "feature_names"
   ]
  },
  {
   "cell_type": "code",
   "execution_count": 20,
   "metadata": {},
   "outputs": [],
   "source": [
    "DATA_FORMAT = \"avro\"  # or \"parquet\"\n",
    "offline_features_path = ROOT_PATH + f\"feathr_output.{DATA_FORMAT}\""
   ]
  },
  {
   "cell_type": "code",
   "execution_count": 21,
   "metadata": {
    "application/vnd.databricks.v1+cell": {
     "inputWidgets": {},
     "nuid": "e438e6d8-162e-4aa3-b3b3-9d1f3b0d2b7f",
     "showTitle": false,
     "title": ""
    },
    "scrolled": false
   },
   "outputs": [
    {
     "name": "stderr",
     "output_type": "stream",
     "text": [
      "2022-10-05 17:52:16.772 | INFO     | feathr.utils._envvariableutil:get_environment_variable:82 - BLOB_ACCOUNT is not set in the environment variables.\n",
      "2022-10-05 17:52:16.773 | INFO     | feathr.utils._envvariableutil:get_environment_variable:82 - BLOB_KEY is not set in the environment variables.\n",
      "2022-10-05 17:52:16.774 | WARNING  | feathr.spark_provider._localspark_submission:submit_feathr_job:75 - Local Spark Mode only support basic params right now and should be used only for testing purpose.\n",
      "2022-10-05 17:52:16.776 | INFO     | feathr.spark_provider._localspark_submission:_init_args:200 - Spark job: feathr_getting_started_feathr_feature_join_job is running on local spark with master: local[*].\n",
      "2022-10-05 17:52:16.779 | INFO     | feathr.spark_provider._localspark_submission:submit_feathr_job:120 - Detail job stdout and stderr are in debug/feathr_getting_started_feathr_feature_join_job20221005175216/log.\n",
      "2022-10-05 17:52:16.780 | INFO     | feathr.spark_provider._localspark_submission:submit_feathr_job:130 - Local Spark job submit with pid: 3132133.\n",
      "2022-10-05 17:52:16.782 | INFO     | feathr.spark_provider._localspark_submission:wait_for_completion:139 - 1 local spark job(s) in this Launcher, only the latest will be monitored.\n",
      "2022-10-05 17:52:16.782 | INFO     | feathr.spark_provider._localspark_submission:wait_for_completion:140 - Please check auto generated spark command in debug/feathr_getting_started_feathr_feature_join_job20221005175216/command.sh and detail logs in debug/feathr_getting_started_feathr_feature_join_job20221005175216/log.\n"
     ]
    },
    {
     "name": "stdout",
     "output_type": "stream",
     "text": [
      "debug/feathr_getting_started_feathr_feature_join_job20221005175216\n",
      "['/tmp/tmppe35xkpj/feathr_pyspark_driver.py']\n",
      "x>>>>>>>>>>>>>>>>>>>>>>>>>>>>"
     ]
    },
    {
     "name": "stderr",
     "output_type": "stream",
     "text": [
      "2022-10-05 17:52:51.827 | INFO     | feathr.spark_provider._localspark_submission:wait_for_completion:183 - Spark job with pid 3132133 finished in: 35 seconds with returncode 0\n"
     ]
    },
    {
     "name": "stdout",
     "output_type": "stream",
     "text": [
      ">"
     ]
    }
   ],
   "source": [
    "# Features that we want to request. Can use a subset of features\n",
    "query = FeatureQuery(\n",
    "    feature_list=feature_names,\n",
    "    key=agg_key,\n",
    ")\n",
    "settings = ObservationSettings(\n",
    "    observation_path=DATA_FILEPATH,\n",
    "    event_timestamp_column=TIMESTAMP_COL,\n",
    "    timestamp_format=TIMESTAMP_FORMAT,\n",
    ")\n",
    "client.get_offline_features(\n",
    "    observation_settings=settings,\n",
    "    feature_query=query,\n",
    "    # TODO - this doesn't work. It keeps storing as \"avro\" files\n",
    "    execution_configurations=SparkExecutionConfiguration({\n",
    "        \"spark.feathr.inputFormat\": DATA_FORMAT,\n",
    "        \"spark.feathr.outputFormat\": DATA_FORMAT,\n",
    "    }),\n",
    "    output_path=offline_features_path,\n",
    ")\n",
    "\n",
    "client.wait_job_to_finish(timeout_sec=500)"
   ]
  },
  {
   "cell_type": "code",
   "execution_count": 31,
   "metadata": {},
   "outputs": [
    {
     "data": {
      "text/html": [
       "<div>\n",
       "<style scoped>\n",
       "    .dataframe tbody tr th:only-of-type {\n",
       "        vertical-align: middle;\n",
       "    }\n",
       "\n",
       "    .dataframe tbody tr th {\n",
       "        vertical-align: top;\n",
       "    }\n",
       "\n",
       "    .dataframe thead th {\n",
       "        text-align: right;\n",
       "    }\n",
       "</style>\n",
       "<table border=\"1\" class=\"dataframe\">\n",
       "  <thead>\n",
       "    <tr style=\"text-align: right;\">\n",
       "      <th></th>\n",
       "      <th>f_trip_distance</th>\n",
       "      <th>f_trip_time_duration</th>\n",
       "      <th>f_is_long_trip_distance</th>\n",
       "      <th>f_day_of_week</th>\n",
       "      <th>f_day_of_month</th>\n",
       "      <th>f_hour_of_day</th>\n",
       "      <th>f_location_avg_fare</th>\n",
       "      <th>f_location_max_fare</th>\n",
       "      <th>f_trip_time_distance</th>\n",
       "    </tr>\n",
       "  </thead>\n",
       "  <tbody>\n",
       "    <tr>\n",
       "      <th>0</th>\n",
       "      <td>10.06</td>\n",
       "      <td>16.000000</td>\n",
       "      <td>False</td>\n",
       "      <td>4</td>\n",
       "      <td>1</td>\n",
       "      <td>3</td>\n",
       "      <td>2266.000000</td>\n",
       "      <td>2266.0</td>\n",
       "      <td>0.628750</td>\n",
       "    </tr>\n",
       "    <tr>\n",
       "      <th>1</th>\n",
       "      <td>10.70</td>\n",
       "      <td>29.000000</td>\n",
       "      <td>False</td>\n",
       "      <td>4</td>\n",
       "      <td>1</td>\n",
       "      <td>6</td>\n",
       "      <td>3043.000000</td>\n",
       "      <td>3820.0</td>\n",
       "      <td>0.368966</td>\n",
       "    </tr>\n",
       "    <tr>\n",
       "      <th>2</th>\n",
       "      <td>5.19</td>\n",
       "      <td>7.983333</td>\n",
       "      <td>False</td>\n",
       "      <td>4</td>\n",
       "      <td>1</td>\n",
       "      <td>7</td>\n",
       "      <td>2545.333252</td>\n",
       "      <td>3820.0</td>\n",
       "      <td>0.650104</td>\n",
       "    </tr>\n",
       "    <tr>\n",
       "      <th>3</th>\n",
       "      <td>5.26</td>\n",
       "      <td>18.683332</td>\n",
       "      <td>False</td>\n",
       "      <td>4</td>\n",
       "      <td>1</td>\n",
       "      <td>7</td>\n",
       "      <td>2396.500000</td>\n",
       "      <td>3820.0</td>\n",
       "      <td>0.281534</td>\n",
       "    </tr>\n",
       "    <tr>\n",
       "      <th>4</th>\n",
       "      <td>6.26</td>\n",
       "      <td>16.733334</td>\n",
       "      <td>False</td>\n",
       "      <td>4</td>\n",
       "      <td>1</td>\n",
       "      <td>7</td>\n",
       "      <td>2327.199951</td>\n",
       "      <td>3820.0</td>\n",
       "      <td>0.374104</td>\n",
       "    </tr>\n",
       "  </tbody>\n",
       "</table>\n",
       "</div>"
      ],
      "text/plain": [
       "   f_trip_distance  f_trip_time_duration  f_is_long_trip_distance  \\\n",
       "0            10.06             16.000000                    False   \n",
       "1            10.70             29.000000                    False   \n",
       "2             5.19              7.983333                    False   \n",
       "3             5.26             18.683332                    False   \n",
       "4             6.26             16.733334                    False   \n",
       "\n",
       "   f_day_of_week  f_day_of_month  f_hour_of_day  f_location_avg_fare  \\\n",
       "0              4               1              3          2266.000000   \n",
       "1              4               1              6          3043.000000   \n",
       "2              4               1              7          2545.333252   \n",
       "3              4               1              7          2396.500000   \n",
       "4              4               1              7          2327.199951   \n",
       "\n",
       "   f_location_max_fare  f_trip_time_distance  \n",
       "0               2266.0              0.628750  \n",
       "1               3820.0              0.368966  \n",
       "2               3820.0              0.650104  \n",
       "3               3820.0              0.281534  \n",
       "4               3820.0              0.374104  "
      ]
     },
     "execution_count": 31,
     "metadata": {},
     "output_type": "execute_result"
    }
   ],
   "source": [
    "# Show feature results\n",
    "get_result_df(\n",
    "    spark=spark,\n",
    "    client=client,\n",
    "    data_format=DATA_FORMAT, res_url=offline_features_path,\n",
    ").select(feature_names).limit(5).toPandas()"
   ]
  },
  {
   "cell_type": "markdown",
   "metadata": {
    "application/vnd.databricks.v1+cell": {
     "inputWidgets": {},
     "nuid": "dcbf17fc-7f79-4a65-a3af-9cffbd0b5d1f",
     "showTitle": false,
     "title": ""
    }
   },
   "source": [
    "## 4. Train a Prediction Model and Evaluate the Features\n",
    "\n",
    "After generating all the features, we train and evaluate a machine learning model to predict the NYC taxi fare prediction. In this example, we use Spark MLlib's [GBTRegressor](https://spark.apache.org/docs/latest/ml-classification-regression.html#gradient-boosted-tree-regression)"
   ]
  },
  {
   "cell_type": "code",
   "execution_count": 70,
   "metadata": {
    "application/vnd.databricks.v1+cell": {
     "inputWidgets": {},
     "nuid": "b9be042e-eb12-46b9-9d91-a0e5dd0c704f",
     "showTitle": false,
     "title": ""
    }
   },
   "outputs": [],
   "source": [
    "from pyspark.ml import Pipeline\n",
    "from pyspark.ml.evaluation import RegressionEvaluator\n",
    "from pyspark.ml.feature import VectorAssembler\n",
    "from pyspark.ml.regression import GBTRegressor\n",
    "\n",
    "\n",
    "# To run on a local spark, start a spark session:\n",
    "from pyspark.sql import SparkSession\n",
    "spark = (\n",
    "    SparkSession\n",
    "    .builder\n",
    "    .appName(\"feathr\")\n",
    "    .config(\"spark.jars.packages\", \"org.apache.spark:spark-avro_2.12:3.3.0\")\n",
    "    .config(\"spark.ui.port\", \"8080\")  # Set ui port other than the default one (4040) so that feathr spark job doesn't fail. \n",
    "    .getOrCreate()\n",
    ")"
   ]
  },
  {
   "cell_type": "markdown",
   "metadata": {},
   "source": [
    "### Load Train and Test Data from the Offline Feature Values"
   ]
  },
  {
   "cell_type": "code",
   "execution_count": 71,
   "metadata": {},
   "outputs": [
    {
     "data": {
      "text/html": [
       "<div>\n",
       "<style scoped>\n",
       "    .dataframe tbody tr th:only-of-type {\n",
       "        vertical-align: middle;\n",
       "    }\n",
       "\n",
       "    .dataframe tbody tr th {\n",
       "        vertical-align: top;\n",
       "    }\n",
       "\n",
       "    .dataframe thead th {\n",
       "        text-align: right;\n",
       "    }\n",
       "</style>\n",
       "<table border=\"1\" class=\"dataframe\">\n",
       "  <thead>\n",
       "    <tr style=\"text-align: right;\">\n",
       "      <th></th>\n",
       "      <th>trip_id</th>\n",
       "      <th>VendorID</th>\n",
       "      <th>lpep_pickup_datetime</th>\n",
       "      <th>lpep_dropoff_datetime</th>\n",
       "      <th>store_and_fwd_flag</th>\n",
       "      <th>RatecodeID</th>\n",
       "      <th>PULocationID</th>\n",
       "      <th>DOLocationID</th>\n",
       "      <th>passenger_count</th>\n",
       "      <th>trip_distance</th>\n",
       "      <th>...</th>\n",
       "      <th>f_is_long_trip_distance</th>\n",
       "      <th>f_day_of_month</th>\n",
       "      <th>f_trip_time_duration</th>\n",
       "      <th>f_day_of_week</th>\n",
       "      <th>f_hour_of_day</th>\n",
       "      <th>f_trip_distance</th>\n",
       "      <th>f_location_max_fare</th>\n",
       "      <th>f_location_avg_fare</th>\n",
       "      <th>f_trip_time_distance</th>\n",
       "      <th>label</th>\n",
       "    </tr>\n",
       "  </thead>\n",
       "  <tbody>\n",
       "    <tr>\n",
       "      <th>0</th>\n",
       "      <td>0</td>\n",
       "      <td>2.0</td>\n",
       "      <td>2020-04-01 00:44:02</td>\n",
       "      <td>2020-04-01 00:52:23</td>\n",
       "      <td>N</td>\n",
       "      <td>1.0</td>\n",
       "      <td>42</td>\n",
       "      <td>41</td>\n",
       "      <td>1.0</td>\n",
       "      <td>1.68</td>\n",
       "      <td>...</td>\n",
       "      <td>False</td>\n",
       "      <td>1</td>\n",
       "      <td>8.350000</td>\n",
       "      <td>4</td>\n",
       "      <td>0</td>\n",
       "      <td>1.68</td>\n",
       "      <td>973.0</td>\n",
       "      <td>824.333313</td>\n",
       "      <td>0.201198</td>\n",
       "      <td>8.0</td>\n",
       "    </tr>\n",
       "    <tr>\n",
       "      <th>1</th>\n",
       "      <td>10</td>\n",
       "      <td>2.0</td>\n",
       "      <td>2020-04-01 00:18:32</td>\n",
       "      <td>2020-04-01 00:29:08</td>\n",
       "      <td>N</td>\n",
       "      <td>1.0</td>\n",
       "      <td>130</td>\n",
       "      <td>205</td>\n",
       "      <td>1.0</td>\n",
       "      <td>3.41</td>\n",
       "      <td>...</td>\n",
       "      <td>False</td>\n",
       "      <td>1</td>\n",
       "      <td>10.600000</td>\n",
       "      <td>4</td>\n",
       "      <td>0</td>\n",
       "      <td>3.41</td>\n",
       "      <td>1200.0</td>\n",
       "      <td>1200.000000</td>\n",
       "      <td>0.321698</td>\n",
       "      <td>12.0</td>\n",
       "    </tr>\n",
       "    <tr>\n",
       "      <th>2</th>\n",
       "      <td>100</td>\n",
       "      <td>2.0</td>\n",
       "      <td>2020-04-01 07:26:09</td>\n",
       "      <td>2020-04-01 07:29:26</td>\n",
       "      <td>N</td>\n",
       "      <td>1.0</td>\n",
       "      <td>74</td>\n",
       "      <td>74</td>\n",
       "      <td>1.0</td>\n",
       "      <td>0.79</td>\n",
       "      <td>...</td>\n",
       "      <td>False</td>\n",
       "      <td>1</td>\n",
       "      <td>3.283333</td>\n",
       "      <td>4</td>\n",
       "      <td>7</td>\n",
       "      <td>0.79</td>\n",
       "      <td>5537.0</td>\n",
       "      <td>1322.888916</td>\n",
       "      <td>0.240609</td>\n",
       "      <td>-5.0</td>\n",
       "    </tr>\n",
       "    <tr>\n",
       "      <th>3</th>\n",
       "      <td>1000</td>\n",
       "      <td>2.0</td>\n",
       "      <td>2020-04-01 19:03:14</td>\n",
       "      <td>2020-04-01 19:04:26</td>\n",
       "      <td>N</td>\n",
       "      <td>1.0</td>\n",
       "      <td>75</td>\n",
       "      <td>75</td>\n",
       "      <td>1.0</td>\n",
       "      <td>0.42</td>\n",
       "      <td>...</td>\n",
       "      <td>False</td>\n",
       "      <td>1</td>\n",
       "      <td>1.200000</td>\n",
       "      <td>4</td>\n",
       "      <td>19</td>\n",
       "      <td>0.42</td>\n",
       "      <td>8950.0</td>\n",
       "      <td>1149.923096</td>\n",
       "      <td>0.350000</td>\n",
       "      <td>3.5</td>\n",
       "    </tr>\n",
       "    <tr>\n",
       "      <th>4</th>\n",
       "      <td>10004</td>\n",
       "      <td>1.0</td>\n",
       "      <td>2020-04-12 18:20:20</td>\n",
       "      <td>2020-04-12 18:37:07</td>\n",
       "      <td>N</td>\n",
       "      <td>1.0</td>\n",
       "      <td>52</td>\n",
       "      <td>140</td>\n",
       "      <td>1.0</td>\n",
       "      <td>0.0</td>\n",
       "      <td>...</td>\n",
       "      <td>False</td>\n",
       "      <td>12</td>\n",
       "      <td>16.783333</td>\n",
       "      <td>1</td>\n",
       "      <td>18</td>\n",
       "      <td>0.00</td>\n",
       "      <td>6013.0</td>\n",
       "      <td>1913.714233</td>\n",
       "      <td>0.000000</td>\n",
       "      <td>23.7</td>\n",
       "    </tr>\n",
       "  </tbody>\n",
       "</table>\n",
       "<p>5 rows × 31 columns</p>\n",
       "</div>"
      ],
      "text/plain": [
       "  trip_id VendorID lpep_pickup_datetime lpep_dropoff_datetime  \\\n",
       "0       0      2.0  2020-04-01 00:44:02   2020-04-01 00:52:23   \n",
       "1      10      2.0  2020-04-01 00:18:32   2020-04-01 00:29:08   \n",
       "2     100      2.0  2020-04-01 07:26:09   2020-04-01 07:29:26   \n",
       "3    1000      2.0  2020-04-01 19:03:14   2020-04-01 19:04:26   \n",
       "4   10004      1.0  2020-04-12 18:20:20   2020-04-12 18:37:07   \n",
       "\n",
       "  store_and_fwd_flag RatecodeID PULocationID DOLocationID passenger_count  \\\n",
       "0                  N        1.0           42           41             1.0   \n",
       "1                  N        1.0          130          205             1.0   \n",
       "2                  N        1.0           74           74             1.0   \n",
       "3                  N        1.0           75           75             1.0   \n",
       "4                  N        1.0           52          140             1.0   \n",
       "\n",
       "  trip_distance  ... f_is_long_trip_distance f_day_of_month  \\\n",
       "0          1.68  ...                   False              1   \n",
       "1          3.41  ...                   False              1   \n",
       "2          0.79  ...                   False              1   \n",
       "3          0.42  ...                   False              1   \n",
       "4           0.0  ...                   False             12   \n",
       "\n",
       "  f_trip_time_duration f_day_of_week f_hour_of_day f_trip_distance  \\\n",
       "0             8.350000             4             0            1.68   \n",
       "1            10.600000             4             0            3.41   \n",
       "2             3.283333             4             7            0.79   \n",
       "3             1.200000             4            19            0.42   \n",
       "4            16.783333             1            18            0.00   \n",
       "\n",
       "  f_location_max_fare f_location_avg_fare f_trip_time_distance label  \n",
       "0               973.0          824.333313             0.201198   8.0  \n",
       "1              1200.0         1200.000000             0.321698  12.0  \n",
       "2              5537.0         1322.888916             0.240609  -5.0  \n",
       "3              8950.0         1149.923096             0.350000   3.5  \n",
       "4              6013.0         1913.714233             0.000000  23.7  \n",
       "\n",
       "[5 rows x 31 columns]"
      ]
     },
     "execution_count": 71,
     "metadata": {},
     "output_type": "execute_result"
    }
   ],
   "source": [
    "# Train / test split\n",
    "train_df, test_df = (\n",
    "    spark.read.format(DATA_FORMAT).load(offline_features_path)\n",
    "    .withColumn(\"label\", F.col(\"fare_amount\").cast(\"double\"))\n",
    "    .where(F.col(\"f_trip_time_duration\") > 0)\n",
    "    .fillna(0)\n",
    "    .randomSplit([0.8, 0.2])\n",
    ")\n",
    "\n",
    "train_df.limit(5).toPandas()"
   ]
  },
  {
   "cell_type": "code",
   "execution_count": 72,
   "metadata": {},
   "outputs": [
    {
     "name": "stdout",
     "output_type": "stream",
     "text": [
      "Num train samples: 28486\n",
      "Num test samples: 7050\n"
     ]
    }
   ],
   "source": [
    "print(f\"Num train samples: {train_df.count()}\")\n",
    "print(f\"Num test samples: {test_df.count()}\")"
   ]
  },
  {
   "cell_type": "markdown",
   "metadata": {},
   "source": [
    "### Build a ML Pipeline"
   ]
  },
  {
   "cell_type": "code",
   "execution_count": 77,
   "metadata": {},
   "outputs": [],
   "source": [
    "# Generate a feature vector column for SparkML\n",
    "vector_assembler = VectorAssembler(\n",
    "    inputCols=[x for x in df.columns if x in feature_names],\n",
    "    outputCol=\"features\",\n",
    ")\n",
    "\n",
    "# Define a model\n",
    "gbt = GBTRegressor(\n",
    "    featuresCol=\"features\",\n",
    "    maxIter=100,\n",
    "    maxDepth=5,\n",
    "    maxBins=16,\n",
    ")\n",
    "\n",
    "# Create a ML pipeline\n",
    "ml_pipeline = Pipeline(stages=[\n",
    "    vector_assembler,\n",
    "    gbt,\n",
    "])"
   ]
  },
  {
   "cell_type": "markdown",
   "metadata": {},
   "source": [
    "### Train and Evaluate the Model"
   ]
  },
  {
   "cell_type": "code",
   "execution_count": 78,
   "metadata": {},
   "outputs": [
    {
     "name": "stdout",
     "output_type": "stream",
     "text": [
      "Root Mean Squared Error (RMSE) on test data = 5.39574\n"
     ]
    }
   ],
   "source": [
    "# Train a model\n",
    "model = ml_pipeline.fit(train_df)\n",
    "\n",
    "# Make predictions\n",
    "predictions = model.transform(test_df)\n",
    "\n",
    "# Evaluate\n",
    "evaluator = RegressionEvaluator(\n",
    "    labelCol=\"label\",\n",
    "    predictionCol=\"prediction\",\n",
    "    metricName=\"rmse\",\n",
    ")\n",
    "rmse = evaluator.evaluate(predictions)\n",
    "\n",
    "print(\"Root Mean Squared Error (RMSE) on test data = %g\" % rmse)"
   ]
  },
  {
   "cell_type": "markdown",
   "metadata": {},
   "source": [
    "## 5. Register the Features to Share Across Teams\n",
    "\n",
    "You can register your features in the centralized registry and share the corresponding project with other team members who want to consume those features and for further use."
   ]
  },
  {
   "cell_type": "code",
   "execution_count": 74,
   "metadata": {},
   "outputs": [
    {
     "name": "stderr",
     "output_type": "stream",
     "text": [
      "2022-10-05 23:35:54.795 | INFO     | feathr.registry._feathr_registry_client:register_features:126 - Check project lineage by this link: https://juntestwebapp.azurewebsites.net/projects/feathr_getting_started/lineage\n"
     ]
    },
    {
     "data": {
      "text/plain": [
       "[{'name': 'f_day_of_week',\n",
       "  'id': '2a88dc72-51b1-49a8-9c3e-b08d148d199f',\n",
       "  'qualifiedName': 'feathr_getting_started__feature_anchor__f_day_of_week'},\n",
       " {'name': 'f_location_avg_fare',\n",
       "  'id': '4c0251ed-8d21-44b6-981b-e1a7f63d27aa',\n",
       "  'qualifiedName': 'feathr_getting_started__agg_feature_anchor__f_location_avg_fare'},\n",
       " {'name': 'f_hour_of_day',\n",
       "  'id': '649119e7-6242-48c8-863d-25c3a106ba2f',\n",
       "  'qualifiedName': 'feathr_getting_started__feature_anchor__f_hour_of_day'},\n",
       " {'name': 'f_day_of_month',\n",
       "  'id': '7a06eb7c-ec44-4dcf-a831-56d94b323276',\n",
       "  'qualifiedName': 'feathr_getting_started__feature_anchor__f_day_of_month'},\n",
       " {'name': 'f_trip_time_distance',\n",
       "  'id': 'ad484268-6d99-457e-bc1c-e2863f23fc90',\n",
       "  'qualifiedName': 'feathr_getting_started__f_trip_time_distance'},\n",
       " {'name': 'f_trip_distance',\n",
       "  'id': 'd6553d1f-efb6-45ed-bbed-4c3d57e2a055',\n",
       "  'qualifiedName': 'feathr_getting_started__feature_anchor__f_trip_distance'},\n",
       " {'name': 'f_location_max_fare',\n",
       "  'id': 'd67299f0-c3fd-4db8-9a36-083cf7d64bbd',\n",
       "  'qualifiedName': 'feathr_getting_started__agg_feature_anchor__f_location_max_fare'},\n",
       " {'name': 'f_trip_time_duration',\n",
       "  'id': 'e6cf7b24-2783-48a2-a0af-65b6e90543a8',\n",
       "  'qualifiedName': 'feathr_getting_started__feature_anchor__f_trip_time_duration'},\n",
       " {'name': 'f_is_long_trip_distance',\n",
       "  'id': 'f94fc11e-de85-4a48-825a-c4bec7879b27',\n",
       "  'qualifiedName': 'feathr_getting_started__feature_anchor__f_is_long_trip_distance'}]"
      ]
     },
     "execution_count": 74,
     "metadata": {},
     "output_type": "execute_result"
    }
   ],
   "source": [
    "client.register_features()\n",
    "client.list_registered_features(project_name=PROJECT_NAME)  # TODO can I get other project's features than client's?"
   ]
  },
  {
   "cell_type": "markdown",
   "metadata": {
    "application/vnd.databricks.v1+cell": {
     "inputWidgets": {},
     "nuid": "5a226026-1c7b-48db-8f91-88d5c2ddf023",
     "showTitle": false,
     "title": ""
    }
   },
   "source": [
    "## 6. Materialize Feature Values for Online Scoring\n",
    "\n",
    "While we computed feature values on-the-fly at request time via Feathr, we can pre-compute the feature values and materialize them to offline or online storages such as Redis.\n",
    "\n",
    "Note, only the features anchored to offline data source can be materialized, in our case `agg_features`."
   ]
  },
  {
   "cell_type": "code",
   "execution_count": 75,
   "metadata": {},
   "outputs": [
    {
     "data": {
      "text/plain": [
       "['f_location_avg_fare', 'f_location_max_fare']"
      ]
     },
     "execution_count": 75,
     "metadata": {},
     "output_type": "execute_result"
    }
   ],
   "source": [
    "# Get registered features\n",
    "registered_features_dict = client.get_features_from_registry(PROJECT_NAME)\n",
    "\n",
    "# TODO easier way to get this? since we'll need to use this list to materialize later.\n",
    "agg_feature_names = []\n",
    "for feature_name, feature in registered_features_dict.items():\n",
    "    if feature.key[0].key_column != \"NOT_NEEDED\":\n",
    "        agg_feature_names.append(feature_name)\n",
    "agg_feature_names"
   ]
  },
  {
   "cell_type": "code",
   "execution_count": 157,
   "metadata": {},
   "outputs": [
    {
     "data": {
      "text/plain": [
       "datetime.datetime(2020, 5, 1, 0, 47)"
      ]
     },
     "execution_count": 157,
     "metadata": {},
     "output_type": "execute_result"
    }
   ],
   "source": [
    "last_timestamp = (\n",
    "    df\n",
    "    .select(F.to_timestamp(F.col(TIMESTAMP_COL), TIMESTAMP_FORMAT).alias(TIMESTAMP_COL))\n",
    "    .agg({TIMESTAMP_COL: \"max\"})\n",
    "    .collect()[0][0]\n",
    ")\n",
    "last_timestamp"
   ]
  },
  {
   "cell_type": "code",
   "execution_count": 109,
   "metadata": {
    "application/vnd.databricks.v1+cell": {
     "inputWidgets": {},
     "nuid": "3b924c66-8634-42fe-90f3-c844487d3f75",
     "showTitle": false,
     "title": ""
    },
    "scrolled": false
   },
   "outputs": [
    {
     "name": "stderr",
     "output_type": "stream",
     "text": [
      "2022-10-06 00:24:05.971 | INFO     | feathr.utils._envvariableutil:get_environment_variable:82 - KAFKA_SASL_JAAS_CONFIG is not set in the environment variables.\n",
      "2022-10-06 00:24:05.972 | INFO     | feathr.utils._envvariableutil:get_environment_variable:82 - BLOB_ACCOUNT is not set in the environment variables.\n",
      "2022-10-06 00:24:05.972 | INFO     | feathr.utils._envvariableutil:get_environment_variable:82 - BLOB_KEY is not set in the environment variables.\n",
      "2022-10-06 00:24:05.976 | INFO     | feathr.utils._envvariableutil:get_environment_variable_with_default:51 - monitoring__database__sql__url not found in the config file.\n",
      "2022-10-06 00:24:05.979 | INFO     | feathr.utils._envvariableutil:get_environment_variable_with_default:51 - monitoring__database__sql__user not found in the config file.\n",
      "2022-10-06 00:24:05.981 | INFO     | feathr.utils._envvariableutil:get_environment_variable:82 - MONITORING_DATABASE_SQL_PASSWORD is not set in the environment variables.\n",
      "2022-10-06 00:24:05.981 | WARNING  | feathr.spark_provider._localspark_submission:submit_feathr_job:75 - Local Spark Mode only support basic params right now and should be used only for testing purpose.\n",
      "2022-10-06 00:24:05.982 | INFO     | feathr.spark_provider._localspark_submission:_init_args:200 - Spark job: feathr_getting_started_feathr_feature_materialization_job is running on local spark with master: local[*].\n",
      "2022-10-06 00:24:05.986 | INFO     | feathr.spark_provider._localspark_submission:submit_feathr_job:120 - Detail job stdout and stderr are in debug/feathr_getting_started_feathr_feature_materialization_job20221006002405/log.\n",
      "2022-10-06 00:24:05.988 | INFO     | feathr.spark_provider._localspark_submission:submit_feathr_job:130 - Local Spark job submit with pid: 3204258.\n",
      "2022-10-06 00:24:05.989 | INFO     | feathr.spark_provider._localspark_submission:wait_for_completion:139 - 8 local spark job(s) in this Launcher, only the latest will be monitored.\n",
      "2022-10-06 00:24:05.989 | INFO     | feathr.spark_provider._localspark_submission:wait_for_completion:140 - Please check auto generated spark command in debug/feathr_getting_started_feathr_feature_materialization_job20221006002405/command.sh and detail logs in debug/feathr_getting_started_feathr_feature_materialization_job20221006002405/log.\n"
     ]
    },
    {
     "name": "stdout",
     "output_type": "stream",
     "text": [
      "debug/feathr_getting_started_feathr_feature_materialization_job20221006002405\n",
      "['/tmp/tmppe35xkpj/feathr_pyspark_driver.py']\n",
      "x>>>>>>>>>>>>>>"
     ]
    },
    {
     "name": "stderr",
     "output_type": "stream",
     "text": [
      "2022-10-06 00:24:27.013 | INFO     | feathr.spark_provider._localspark_submission:wait_for_completion:163 - Pyspark job Completed\n"
     ]
    },
    {
     "name": "stdout",
     "output_type": "stream",
     "text": [
      ">"
     ]
    },
    {
     "name": "stderr",
     "output_type": "stream",
     "text": [
      "2022-10-06 00:24:28.014 | INFO     | feathr.spark_provider._localspark_submission:wait_for_completion:183 - Spark job with pid 3204258 finished in: 22 seconds with returncode 143\n"
     ]
    },
    {
     "name": "stdout",
     "output_type": "stream",
     "text": [
      ">"
     ]
    }
   ],
   "source": [
    "FEATURE_TABLE_NAME = \"nycTaxiDemoFeature\"\n",
    "\n",
    "# Time range to materialize -- TODO how to properly set this?\n",
    "backfill_time = BackfillTime(\n",
    "    start=last_timestamp,\n",
    "    end=last_timestamp,\n",
    "    step=timedelta(days=1),\n",
    ")\n",
    "\n",
    "# Destinations:\n",
    "# For online store,\n",
    "redis_sink = RedisSink(table_name=FEATURE_TABLE_NAME)\n",
    "\n",
    "# For offline store,\n",
    "# adls_sink = HdfsSink(output_path=f\"abfss://{adls_fs_name}@{adls_account}.dfs.core.windows.net/{FEATURE_TABLE_NAME}/\")\n",
    "\n",
    "settings = MaterializationSettings(\n",
    "    name=FEATURE_TABLE_NAME + \".job\",  # job name\n",
    "    backfill_time=backfill_time,\n",
    "    sinks=[redis_sink],  # and/or adls_sink -- TODO can I specify both at the same time?\n",
    "    feature_names=agg_feature_names,  # TODO can i pass the features of different keys together?\n",
    ")\n",
    "\n",
    "client.materialize_features(\n",
    "    settings=settings,\n",
    "    execution_configurations={\"spark.feathr.outputFormat\": \"parquet\"},\n",
    ")\n",
    "\n",
    "client.wait_job_to_finish(timeout_sec=500)"
   ]
  },
  {
   "cell_type": "code",
   "execution_count": 158,
   "metadata": {},
   "outputs": [
    {
     "data": {
      "text/html": [
       "<div>\n",
       "<style scoped>\n",
       "    .dataframe tbody tr th:only-of-type {\n",
       "        vertical-align: middle;\n",
       "    }\n",
       "\n",
       "    .dataframe tbody tr th {\n",
       "        vertical-align: top;\n",
       "    }\n",
       "\n",
       "    .dataframe thead th {\n",
       "        text-align: right;\n",
       "    }\n",
       "</style>\n",
       "<table border=\"1\" class=\"dataframe\">\n",
       "  <thead>\n",
       "    <tr style=\"text-align: right;\">\n",
       "      <th></th>\n",
       "      <th>trip_id</th>\n",
       "      <th>VendorID</th>\n",
       "      <th>lpep_pickup_datetime</th>\n",
       "      <th>lpep_dropoff_datetime</th>\n",
       "      <th>store_and_fwd_flag</th>\n",
       "      <th>RatecodeID</th>\n",
       "      <th>PULocationID</th>\n",
       "      <th>DOLocationID</th>\n",
       "      <th>passenger_count</th>\n",
       "      <th>trip_distance</th>\n",
       "      <th>...</th>\n",
       "      <th>extra</th>\n",
       "      <th>mta_tax</th>\n",
       "      <th>tip_amount</th>\n",
       "      <th>tolls_amount</th>\n",
       "      <th>ehail_fee</th>\n",
       "      <th>improvement_surcharge</th>\n",
       "      <th>total_amount</th>\n",
       "      <th>payment_type</th>\n",
       "      <th>trip_type</th>\n",
       "      <th>congestion_surcharge</th>\n",
       "    </tr>\n",
       "  </thead>\n",
       "  <tbody>\n",
       "    <tr>\n",
       "      <th>0</th>\n",
       "      <td>35592</td>\n",
       "      <td>None</td>\n",
       "      <td>2020-04-30 23:51:00</td>\n",
       "      <td>2020-05-01 00:47:00</td>\n",
       "      <td>None</td>\n",
       "      <td>None</td>\n",
       "      <td>159</td>\n",
       "      <td>208</td>\n",
       "      <td>None</td>\n",
       "      <td>24.95</td>\n",
       "      <td>...</td>\n",
       "      <td>0.0</td>\n",
       "      <td>0.0</td>\n",
       "      <td>0.0</td>\n",
       "      <td>0.0</td>\n",
       "      <td>None</td>\n",
       "      <td>0.3</td>\n",
       "      <td>26.43</td>\n",
       "      <td>None</td>\n",
       "      <td>None</td>\n",
       "      <td>None</td>\n",
       "    </tr>\n",
       "  </tbody>\n",
       "</table>\n",
       "<p>1 rows × 21 columns</p>\n",
       "</div>"
      ],
      "text/plain": [
       "  trip_id VendorID lpep_pickup_datetime lpep_dropoff_datetime  \\\n",
       "0   35592     None  2020-04-30 23:51:00   2020-05-01 00:47:00   \n",
       "\n",
       "  store_and_fwd_flag RatecodeID PULocationID DOLocationID passenger_count  \\\n",
       "0               None       None          159          208            None   \n",
       "\n",
       "  trip_distance  ... extra mta_tax tip_amount tolls_amount ehail_fee  \\\n",
       "0         24.95  ...   0.0     0.0        0.0          0.0      None   \n",
       "\n",
       "  improvement_surcharge total_amount payment_type trip_type  \\\n",
       "0                   0.3        26.43         None      None   \n",
       "\n",
       "  congestion_surcharge  \n",
       "0                 None  \n",
       "\n",
       "[1 rows x 21 columns]"
      ]
     },
     "execution_count": 158,
     "metadata": {},
     "output_type": "execute_result"
    }
   ],
   "source": [
    "samples_df = df.where(F.col(TIMESTAMP_COL) == last_timestamp)\n",
    "samples_df.toPandas()"
   ]
  },
  {
   "cell_type": "code",
   "execution_count": 159,
   "metadata": {},
   "outputs": [
    {
     "data": {
      "text/plain": [
       "['208']"
      ]
     },
     "execution_count": 159,
     "metadata": {},
     "output_type": "execute_result"
    }
   ],
   "source": [
    "keys = samples_df.select(agg_key.key_column).distinct().toPandas()[agg_key.key_column].to_list()\n",
    "keys"
   ]
  },
  {
   "cell_type": "code",
   "execution_count": 160,
   "metadata": {
    "application/vnd.databricks.v1+cell": {
     "inputWidgets": {},
     "nuid": "4d4699ed-42e6-408f-903d-2f799284f4b6",
     "showTitle": false,
     "title": ""
    }
   },
   "outputs": [
    {
     "data": {
      "text/plain": [
       "{'208': [1846.0, 6235.0]}"
      ]
     },
     "execution_count": 160,
     "metadata": {},
     "output_type": "execute_result"
    }
   ],
   "source": [
    "# Note, to get a single key, you may use client.get_online_features\n",
    "agg_feature_values = client.multi_get_online_features(\n",
    "    feature_table=FEATURE_TABLE_NAME,\n",
    "    keys=keys,\n",
    "    feature_names=agg_feature_names,\n",
    ")\n",
    "agg_feature_values"
   ]
  },
  {
   "cell_type": "code",
   "execution_count": 161,
   "metadata": {},
   "outputs": [
    {
     "data": {
      "text/html": [
       "<div>\n",
       "<style scoped>\n",
       "    .dataframe tbody tr th:only-of-type {\n",
       "        vertical-align: middle;\n",
       "    }\n",
       "\n",
       "    .dataframe tbody tr th {\n",
       "        vertical-align: top;\n",
       "    }\n",
       "\n",
       "    .dataframe thead th {\n",
       "        text-align: right;\n",
       "    }\n",
       "</style>\n",
       "<table border=\"1\" class=\"dataframe\">\n",
       "  <thead>\n",
       "    <tr style=\"text-align: right;\">\n",
       "      <th></th>\n",
       "      <th>DOLocationID</th>\n",
       "      <th>f_location_avg_fare</th>\n",
       "      <th>f_location_max_fare</th>\n",
       "    </tr>\n",
       "  </thead>\n",
       "  <tbody>\n",
       "    <tr>\n",
       "      <th>0</th>\n",
       "      <td>208</td>\n",
       "      <td>1846.0</td>\n",
       "      <td>6235.0</td>\n",
       "    </tr>\n",
       "  </tbody>\n",
       "</table>\n",
       "</div>"
      ],
      "text/plain": [
       "  DOLocationID  f_location_avg_fare  f_location_max_fare\n",
       "0          208               1846.0               6235.0"
      ]
     },
     "execution_count": 161,
     "metadata": {},
     "output_type": "execute_result"
    }
   ],
   "source": [
    "agg_feature_pdf = (\n",
    "    pd.DataFrame\n",
    "    .from_dict(agg_feature_values, orient='index', columns=agg_feature_names)\n",
    "    .reset_index(names=agg_key.key_column)\n",
    ")\n",
    "agg_feature_pdf"
   ]
  },
  {
   "cell_type": "code",
   "execution_count": null,
   "metadata": {},
   "outputs": [],
   "source": [
    "# TODO feature gap: Cannot easily extract all the other features and join w/ the online-features to make online prediction."
   ]
  },
  {
   "cell_type": "code",
   "execution_count": 69,
   "metadata": {},
   "outputs": [],
   "source": [
    "# Stop the spark session if it is a local session.\n",
    "spark.stop()"
   ]
  }
 ],
 "metadata": {
  "application/vnd.databricks.v1+notebook": {
   "dashboards": [],
   "language": "python",
   "notebookMetadata": {
    "pythonIndentUnit": 4
   },
   "notebookName": "nyc_driver_demo",
   "notebookOrigID": 930353059183053,
   "widgets": {}
  },
  "kernelspec": {
   "display_name": "Python 3 (ipykernel)",
   "language": "python",
   "name": "python3"
  },
  "language_info": {
   "codemirror_mode": {
    "name": "ipython",
    "version": 3
   },
   "file_extension": ".py",
   "mimetype": "text/x-python",
   "name": "python",
   "nbconvert_exporter": "python",
   "pygments_lexer": "ipython3",
   "version": "3.10.4"
  },
  "vscode": {
   "interpreter": {
    "hash": "6d25d3d1f1809ed0384c3d8e0cd4f1df57fe7bb936ead67f035c6ff1494f4e23"
   }
  }
 },
 "nbformat": 4,
 "nbformat_minor": 1
}
